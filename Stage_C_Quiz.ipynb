{
  "nbformat": 4,
  "nbformat_minor": 0,
  "metadata": {
    "colab": {
      "provenance": [],
      "collapsed_sections": [],
      "authorship_tag": "ABX9TyNNfictwvKRLng7FQABm4fF",
      "include_colab_link": true
    },
    "kernelspec": {
      "name": "python3",
      "display_name": "Python 3"
    },
    "language_info": {
      "name": "python"
    }
  },
  "cells": [
    {
      "cell_type": "markdown",
      "metadata": {
        "id": "view-in-github",
        "colab_type": "text"
      },
      "source": [
        "<a href=\"https://colab.research.google.com/github/ababayato/Hamoye-Stage-C-Quiz/blob/main/Stage_C_Quiz.ipynb\" target=\"_parent\"><img src=\"https://colab.research.google.com/assets/colab-badge.svg\" alt=\"Open In Colab\"/></a>"
      ]
    },
    {
      "cell_type": "markdown",
      "source": [
        "Machine Learning: Classification <br>\n",
        "By Adedamola Babayato <br>\n",
        "ID: 157372abee81f000"
      ],
      "metadata": {
        "id": "_jY3Mf9bsyCV"
      }
    },
    {
      "cell_type": "code",
      "execution_count": null,
      "metadata": {
        "id": "-oBEFCBHsPDZ"
      },
      "outputs": [],
      "source": [
        "# Import libraries\n",
        "import pandas as pd\n",
        "import numpy as np\n",
        "import matplotlib.pyplot as plt\n",
        "import warnings\n",
        "\n",
        "# For data preprocessing\n",
        "from sklearn.preprocessing import StandardScaler\n",
        "from sklearn.model_selection import train_test_split\n",
        "\n",
        "# For modelling\n",
        "from sklearn.ensemble import ExtraTreesClassifier, RandomForestClassifier\n",
        "import lightgbm as ltb\n",
        "from xgboost import XGBClassifier\n",
        "from lightgbm import LGBMClassifier\n",
        "from sklearn.model_selection import RandomizedSearchCV\n",
        "from sklearn.metrics import recall_score, accuracy_score, precision_score, f1_score, confusion_matrix\n",
        "\n",
        "warnings.filterwarnings('ignore')"
      ]
    },
    {
      "cell_type": "markdown",
      "source": [
        "Import Dataset"
      ],
      "metadata": {
        "id": "ptJUJ6dXtNi8"
      }
    },
    {
      "cell_type": "code",
      "source": [
        "url = \"https://raw.githubusercontent.com/ababayato/Hamoye-Stage-C-Quiz/main/Data_for_UCI_named.csv\"\n",
        "df = pd.read_csv(url, sep=',')"
      ],
      "metadata": {
        "id": "33x08-qvsZpQ"
      },
      "execution_count": null,
      "outputs": []
    },
    {
      "cell_type": "code",
      "source": [
        "df.head()"
      ],
      "metadata": {
        "colab": {
          "base_uri": "https://localhost:8080/",
          "height": 206
        },
        "id": "V_UGqoqAtRBx",
        "outputId": "843d9bf5-3276-486d-e5d7-4837d011ddf8"
      },
      "execution_count": null,
      "outputs": [
        {
          "output_type": "execute_result",
          "data": {
            "text/plain": [
              "       tau1      tau2      tau3      tau4        p1        p2        p3  \\\n",
              "0  2.959060  3.079885  8.381025  9.780754  3.763085 -0.782604 -1.257395   \n",
              "1  9.304097  4.902524  3.047541  1.369357  5.067812 -1.940058 -1.872742   \n",
              "2  8.971707  8.848428  3.046479  1.214518  3.405158 -1.207456 -1.277210   \n",
              "3  0.716415  7.669600  4.486641  2.340563  3.963791 -1.027473 -1.938944   \n",
              "4  3.134112  7.608772  4.943759  9.857573  3.525811 -1.125531 -1.845975   \n",
              "\n",
              "         p4        g1        g2        g3        g4      stab     stabf  \n",
              "0 -1.723086  0.650456  0.859578  0.887445  0.958034  0.055347  unstable  \n",
              "1 -1.255012  0.413441  0.862414  0.562139  0.781760 -0.005957    stable  \n",
              "2 -0.920492  0.163041  0.766689  0.839444  0.109853  0.003471  unstable  \n",
              "3 -0.997374  0.446209  0.976744  0.929381  0.362718  0.028871  unstable  \n",
              "4 -0.554305  0.797110  0.455450  0.656947  0.820923  0.049860  unstable  "
            ],
            "text/html": [
              "\n",
              "  <div id=\"df-3bbb18d1-f188-49cc-9761-6aa87d27eb9e\">\n",
              "    <div class=\"colab-df-container\">\n",
              "      <div>\n",
              "<style scoped>\n",
              "    .dataframe tbody tr th:only-of-type {\n",
              "        vertical-align: middle;\n",
              "    }\n",
              "\n",
              "    .dataframe tbody tr th {\n",
              "        vertical-align: top;\n",
              "    }\n",
              "\n",
              "    .dataframe thead th {\n",
              "        text-align: right;\n",
              "    }\n",
              "</style>\n",
              "<table border=\"1\" class=\"dataframe\">\n",
              "  <thead>\n",
              "    <tr style=\"text-align: right;\">\n",
              "      <th></th>\n",
              "      <th>tau1</th>\n",
              "      <th>tau2</th>\n",
              "      <th>tau3</th>\n",
              "      <th>tau4</th>\n",
              "      <th>p1</th>\n",
              "      <th>p2</th>\n",
              "      <th>p3</th>\n",
              "      <th>p4</th>\n",
              "      <th>g1</th>\n",
              "      <th>g2</th>\n",
              "      <th>g3</th>\n",
              "      <th>g4</th>\n",
              "      <th>stab</th>\n",
              "      <th>stabf</th>\n",
              "    </tr>\n",
              "  </thead>\n",
              "  <tbody>\n",
              "    <tr>\n",
              "      <th>0</th>\n",
              "      <td>2.959060</td>\n",
              "      <td>3.079885</td>\n",
              "      <td>8.381025</td>\n",
              "      <td>9.780754</td>\n",
              "      <td>3.763085</td>\n",
              "      <td>-0.782604</td>\n",
              "      <td>-1.257395</td>\n",
              "      <td>-1.723086</td>\n",
              "      <td>0.650456</td>\n",
              "      <td>0.859578</td>\n",
              "      <td>0.887445</td>\n",
              "      <td>0.958034</td>\n",
              "      <td>0.055347</td>\n",
              "      <td>unstable</td>\n",
              "    </tr>\n",
              "    <tr>\n",
              "      <th>1</th>\n",
              "      <td>9.304097</td>\n",
              "      <td>4.902524</td>\n",
              "      <td>3.047541</td>\n",
              "      <td>1.369357</td>\n",
              "      <td>5.067812</td>\n",
              "      <td>-1.940058</td>\n",
              "      <td>-1.872742</td>\n",
              "      <td>-1.255012</td>\n",
              "      <td>0.413441</td>\n",
              "      <td>0.862414</td>\n",
              "      <td>0.562139</td>\n",
              "      <td>0.781760</td>\n",
              "      <td>-0.005957</td>\n",
              "      <td>stable</td>\n",
              "    </tr>\n",
              "    <tr>\n",
              "      <th>2</th>\n",
              "      <td>8.971707</td>\n",
              "      <td>8.848428</td>\n",
              "      <td>3.046479</td>\n",
              "      <td>1.214518</td>\n",
              "      <td>3.405158</td>\n",
              "      <td>-1.207456</td>\n",
              "      <td>-1.277210</td>\n",
              "      <td>-0.920492</td>\n",
              "      <td>0.163041</td>\n",
              "      <td>0.766689</td>\n",
              "      <td>0.839444</td>\n",
              "      <td>0.109853</td>\n",
              "      <td>0.003471</td>\n",
              "      <td>unstable</td>\n",
              "    </tr>\n",
              "    <tr>\n",
              "      <th>3</th>\n",
              "      <td>0.716415</td>\n",
              "      <td>7.669600</td>\n",
              "      <td>4.486641</td>\n",
              "      <td>2.340563</td>\n",
              "      <td>3.963791</td>\n",
              "      <td>-1.027473</td>\n",
              "      <td>-1.938944</td>\n",
              "      <td>-0.997374</td>\n",
              "      <td>0.446209</td>\n",
              "      <td>0.976744</td>\n",
              "      <td>0.929381</td>\n",
              "      <td>0.362718</td>\n",
              "      <td>0.028871</td>\n",
              "      <td>unstable</td>\n",
              "    </tr>\n",
              "    <tr>\n",
              "      <th>4</th>\n",
              "      <td>3.134112</td>\n",
              "      <td>7.608772</td>\n",
              "      <td>4.943759</td>\n",
              "      <td>9.857573</td>\n",
              "      <td>3.525811</td>\n",
              "      <td>-1.125531</td>\n",
              "      <td>-1.845975</td>\n",
              "      <td>-0.554305</td>\n",
              "      <td>0.797110</td>\n",
              "      <td>0.455450</td>\n",
              "      <td>0.656947</td>\n",
              "      <td>0.820923</td>\n",
              "      <td>0.049860</td>\n",
              "      <td>unstable</td>\n",
              "    </tr>\n",
              "  </tbody>\n",
              "</table>\n",
              "</div>\n",
              "      <button class=\"colab-df-convert\" onclick=\"convertToInteractive('df-3bbb18d1-f188-49cc-9761-6aa87d27eb9e')\"\n",
              "              title=\"Convert this dataframe to an interactive table.\"\n",
              "              style=\"display:none;\">\n",
              "        \n",
              "  <svg xmlns=\"http://www.w3.org/2000/svg\" height=\"24px\"viewBox=\"0 0 24 24\"\n",
              "       width=\"24px\">\n",
              "    <path d=\"M0 0h24v24H0V0z\" fill=\"none\"/>\n",
              "    <path d=\"M18.56 5.44l.94 2.06.94-2.06 2.06-.94-2.06-.94-.94-2.06-.94 2.06-2.06.94zm-11 1L8.5 8.5l.94-2.06 2.06-.94-2.06-.94L8.5 2.5l-.94 2.06-2.06.94zm10 10l.94 2.06.94-2.06 2.06-.94-2.06-.94-.94-2.06-.94 2.06-2.06.94z\"/><path d=\"M17.41 7.96l-1.37-1.37c-.4-.4-.92-.59-1.43-.59-.52 0-1.04.2-1.43.59L10.3 9.45l-7.72 7.72c-.78.78-.78 2.05 0 2.83L4 21.41c.39.39.9.59 1.41.59.51 0 1.02-.2 1.41-.59l7.78-7.78 2.81-2.81c.8-.78.8-2.07 0-2.86zM5.41 20L4 18.59l7.72-7.72 1.47 1.35L5.41 20z\"/>\n",
              "  </svg>\n",
              "      </button>\n",
              "      \n",
              "  <style>\n",
              "    .colab-df-container {\n",
              "      display:flex;\n",
              "      flex-wrap:wrap;\n",
              "      gap: 12px;\n",
              "    }\n",
              "\n",
              "    .colab-df-convert {\n",
              "      background-color: #E8F0FE;\n",
              "      border: none;\n",
              "      border-radius: 50%;\n",
              "      cursor: pointer;\n",
              "      display: none;\n",
              "      fill: #1967D2;\n",
              "      height: 32px;\n",
              "      padding: 0 0 0 0;\n",
              "      width: 32px;\n",
              "    }\n",
              "\n",
              "    .colab-df-convert:hover {\n",
              "      background-color: #E2EBFA;\n",
              "      box-shadow: 0px 1px 2px rgba(60, 64, 67, 0.3), 0px 1px 3px 1px rgba(60, 64, 67, 0.15);\n",
              "      fill: #174EA6;\n",
              "    }\n",
              "\n",
              "    [theme=dark] .colab-df-convert {\n",
              "      background-color: #3B4455;\n",
              "      fill: #D2E3FC;\n",
              "    }\n",
              "\n",
              "    [theme=dark] .colab-df-convert:hover {\n",
              "      background-color: #434B5C;\n",
              "      box-shadow: 0px 1px 3px 1px rgba(0, 0, 0, 0.15);\n",
              "      filter: drop-shadow(0px 1px 2px rgba(0, 0, 0, 0.3));\n",
              "      fill: #FFFFFF;\n",
              "    }\n",
              "  </style>\n",
              "\n",
              "      <script>\n",
              "        const buttonEl =\n",
              "          document.querySelector('#df-3bbb18d1-f188-49cc-9761-6aa87d27eb9e button.colab-df-convert');\n",
              "        buttonEl.style.display =\n",
              "          google.colab.kernel.accessAllowed ? 'block' : 'none';\n",
              "\n",
              "        async function convertToInteractive(key) {\n",
              "          const element = document.querySelector('#df-3bbb18d1-f188-49cc-9761-6aa87d27eb9e');\n",
              "          const dataTable =\n",
              "            await google.colab.kernel.invokeFunction('convertToInteractive',\n",
              "                                                     [key], {});\n",
              "          if (!dataTable) return;\n",
              "\n",
              "          const docLinkHtml = 'Like what you see? Visit the ' +\n",
              "            '<a target=\"_blank\" href=https://colab.research.google.com/notebooks/data_table.ipynb>data table notebook</a>'\n",
              "            + ' to learn more about interactive tables.';\n",
              "          element.innerHTML = '';\n",
              "          dataTable['output_type'] = 'display_data';\n",
              "          await google.colab.output.renderOutput(dataTable, element);\n",
              "          const docLink = document.createElement('div');\n",
              "          docLink.innerHTML = docLinkHtml;\n",
              "          element.appendChild(docLink);\n",
              "        }\n",
              "      </script>\n",
              "    </div>\n",
              "  </div>\n",
              "  "
            ]
          },
          "metadata": {},
          "execution_count": 3
        }
      ]
    },
    {
      "cell_type": "code",
      "source": [
        "df.info()"
      ],
      "metadata": {
        "colab": {
          "base_uri": "https://localhost:8080/"
        },
        "id": "d5TrEmnRtWBV",
        "outputId": "36077aa1-ab1e-4fa1-b5b6-edc371f8b639"
      },
      "execution_count": null,
      "outputs": [
        {
          "output_type": "stream",
          "name": "stdout",
          "text": [
            "<class 'pandas.core.frame.DataFrame'>\n",
            "RangeIndex: 10000 entries, 0 to 9999\n",
            "Data columns (total 14 columns):\n",
            " #   Column  Non-Null Count  Dtype  \n",
            "---  ------  --------------  -----  \n",
            " 0   tau1    10000 non-null  float64\n",
            " 1   tau2    10000 non-null  float64\n",
            " 2   tau3    10000 non-null  float64\n",
            " 3   tau4    10000 non-null  float64\n",
            " 4   p1      10000 non-null  float64\n",
            " 5   p2      10000 non-null  float64\n",
            " 6   p3      10000 non-null  float64\n",
            " 7   p4      10000 non-null  float64\n",
            " 8   g1      10000 non-null  float64\n",
            " 9   g2      10000 non-null  float64\n",
            " 10  g3      10000 non-null  float64\n",
            " 11  g4      10000 non-null  float64\n",
            " 12  stab    10000 non-null  float64\n",
            " 13  stabf   10000 non-null  object \n",
            "dtypes: float64(13), object(1)\n",
            "memory usage: 1.1+ MB\n"
          ]
        }
      ]
    },
    {
      "cell_type": "code",
      "source": [
        "# check the shape of the dataset\n",
        "df.shape"
      ],
      "metadata": {
        "colab": {
          "base_uri": "https://localhost:8080/"
        },
        "id": "nF8DW9altheY",
        "outputId": "12ab84ac-3b14-4cd6-ba50-46e0cb44479d"
      },
      "execution_count": null,
      "outputs": [
        {
          "output_type": "execute_result",
          "data": {
            "text/plain": [
              "(10000, 14)"
            ]
          },
          "metadata": {},
          "execution_count": 5
        }
      ]
    },
    {
      "cell_type": "markdown",
      "source": [
        "From the dataset, because of the direct relationship between 'stab' and 'stabf' ('stabf' = 'stable' if 'stab' <= 0, 'unstable' otherwise), 'stab' should be dropped and 'stabf' will remain as the sole dependent variable (binary classification)."
      ],
      "metadata": {
        "id": "Al4W5qiFunsi"
      }
    },
    {
      "cell_type": "code",
      "source": [
        "#drop the stab column\n",
        "\n",
        "df.drop(\"stab\", axis=1, inplace=True)"
      ],
      "metadata": {
        "id": "_btwD67DtnTL"
      },
      "execution_count": null,
      "outputs": []
    },
    {
      "cell_type": "markdown",
      "source": [
        "Next we:\n",
        "\n",
        "\n",
        "*   Split the data into 80-20 train-test split with a random state of “1”.\n",
        "*   Use the standard scaler to transform the train set (x_train, y_train) and the test set (x_test).\n",
        "*   Use scikit learn to train a random forest and extra trees classifier.\n",
        "*   And use xgboost and lightgbm to train an extreme boosting model and a light gradient boosting model.\n",
        "* Use random_state = 1 for training all models and evaluate on the test set. \n",
        "\n"
      ],
      "metadata": {
        "id": "ig_mIV7nvGOe"
      }
    },
    {
      "cell_type": "code",
      "source": [
        "# create a separate object for the X and y variables\n",
        "X = df.drop(\"stabf\", axis = 1)\n",
        "y = df[\"stabf\"]           "
      ],
      "metadata": {
        "id": "lmA7491zvhnY"
      },
      "execution_count": null,
      "outputs": []
    },
    {
      "cell_type": "markdown",
      "source": [
        "Scikit learn model_selection module has a train_test_split capability for separating the dataset into training and testing portion. We would reserve 20% of the data for testing by setting test size = 0.2 with a random state of 1."
      ],
      "metadata": {
        "id": "kX1Ka2TFv2mA"
      }
    },
    {
      "cell_type": "code",
      "source": [
        "# Split the dataset into training and test set\n",
        "x_train, x_test, y_train, y_test = train_test_split(X, y, train_size = 0.8, test_size = 0.2, random_state = 1)"
      ],
      "metadata": {
        "id": "PLktY9ZwwA1u"
      },
      "execution_count": null,
      "outputs": []
    },
    {
      "cell_type": "code",
      "source": [
        "#Use the standard scaler to transform the train and test set\n",
        "\n",
        "#Define standard scaler\n",
        "scaler = StandardScaler()\n",
        "\n",
        "#transform train set\n",
        "normalised_train_df = scaler.fit_transform(x_train)\n",
        "normalised_train_df = pd.DataFrame(normalised_train_df, columns = x_train.columns)\n",
        "\n",
        "#transform test set\n",
        "normalised_test_df = scaler.transform(x_test)\n",
        "normalised_test_df = pd.DataFrame(normalised_test_df,  columns = x_test.columns)"
      ],
      "metadata": {
        "id": "-De3F2xnwIKB"
      },
      "execution_count": null,
      "outputs": []
    },
    {
      "cell_type": "markdown",
      "source": [
        "Question 1: <br>\n",
        "What is the accuracy on the test set using the random forest classifier? In 4 decimal places."
      ],
      "metadata": {
        "id": "hzKHUY74wonB"
      }
    },
    {
      "cell_type": "code",
      "source": [
        "#Create a Gaussian Classifier\n",
        "clf=RandomForestClassifier(random_state=1)\n",
        "\n",
        "#Train the model using the training sets y_pred=clf.predict(X_test)\n",
        "clf.fit(normalised_train_df, y_train)\n",
        "\n",
        "y_pred=clf.predict(normalised_test_df)"
      ],
      "metadata": {
        "id": "SUMedlsywxec"
      },
      "execution_count": null,
      "outputs": []
    },
    {
      "cell_type": "code",
      "source": [
        "acc = accuracy_score(y_pred, y_test)\n",
        "\n",
        "round(acc,4)"
      ],
      "metadata": {
        "colab": {
          "base_uri": "https://localhost:8080/"
        },
        "id": "gl6omVGZxBOS",
        "outputId": "f6f392a4-d83e-4a29-d554-f4ce7e68cb61"
      },
      "execution_count": null,
      "outputs": [
        {
          "output_type": "execute_result",
          "data": {
            "text/plain": [
              "0.929"
            ]
          },
          "metadata": {},
          "execution_count": 11
        }
      ]
    },
    {
      "cell_type": "markdown",
      "source": [
        "Question 3: <br>\n",
        "What is the accuracy on the test set using the LGBM classifier? In 4 decimal places."
      ],
      "metadata": {
        "id": "BYOK4sp8yQiZ"
      }
    },
    {
      "cell_type": "code",
      "source": [
        "#LightGBM classifier \n",
        "\n",
        "#define model\n",
        "model = ltb.LGBMClassifier(random_state=1)\n",
        "\n",
        "#fit model\n",
        "model.fit(normalised_train_df, y_train)\n",
        "\n",
        "\n",
        "#prediction\n",
        "predicted_y = model.predict(normalised_test_df)"
      ],
      "metadata": {
        "id": "5x7uliKHxWBN"
      },
      "execution_count": null,
      "outputs": []
    },
    {
      "cell_type": "code",
      "source": [
        "#LGBM classifier test set accuracy\n",
        "\n",
        "accuracy = accuracy_score(y_test, predicted_y)\n",
        "round(accuracy, 4)"
      ],
      "metadata": {
        "colab": {
          "base_uri": "https://localhost:8080/"
        },
        "id": "4ruSCr5jy4ew",
        "outputId": "1dfe3c9f-f404-48e1-9dba-fc6f74cdc32a"
      },
      "execution_count": null,
      "outputs": [
        {
          "output_type": "execute_result",
          "data": {
            "text/plain": [
              "0.9375"
            ]
          },
          "metadata": {},
          "execution_count": 13
        }
      ]
    },
    {
      "cell_type": "markdown",
      "source": [
        "Question 7: <br>\n",
        "Find the feature importance using the optimal ExtraTreesClassifier model. Which features are the most and least important respectively?"
      ],
      "metadata": {
        "id": "LBiKYJ_0zJZC"
      }
    },
    {
      "cell_type": "code",
      "source": [
        "#Define Extra Trees Classifier model\n",
        "extra_tree_clf = ExtraTreesClassifier(random_state = 1)\n",
        "extra_tree_clf.fit(normalised_train_df, y_train)\n",
        "\n",
        "\n",
        "X = pd.DataFrame(X)\n",
        "\n",
        "feature_importance = pd.Series(extra_tree_clf.feature_importances_, index = X.columns)\n",
        "feature_importance.nlargest(40).plot(kind='barh')\n",
        "\n",
        "\n",
        "plt.title('Feature importances obtained from coefficients', size=15)\n",
        "plt.ylabel('Features')\n",
        "plt.xlabel('Values')\n",
        "plt.show()\n"
      ],
      "metadata": {
        "colab": {
          "base_uri": "https://localhost:8080/",
          "height": 297
        },
        "id": "_AUwbIrNzQ1P",
        "outputId": "8720b623-2dc1-4f56-e400-dbc7b50d067e"
      },
      "execution_count": null,
      "outputs": [
        {
          "output_type": "display_data",
          "data": {
            "text/plain": [
              "<Figure size 432x288 with 1 Axes>"
            ],
            "image/png": "[encoded data removed]"
          },
          "metadata": {
            "needs_background": "light"
          }
        }
      ]
    },
    {
      "cell_type": "code",
      "source": [
        "feature_importance"
      ],
      "metadata": {
        "colab": {
          "base_uri": "https://localhost:8080/"
        },
        "id": "eoH4tLBYzqcL",
        "outputId": "5e6b5556-06db-4f3c-8589-8e4364cbb041"
      },
      "execution_count": null,
      "outputs": [
        {
          "output_type": "execute_result",
          "data": {
            "text/plain": [
              "tau1    0.117397\n",
              "tau2    0.118445\n",
              "tau3    0.113169\n",
              "tau4    0.115466\n",
              "p1      0.039507\n",
              "p2      0.040371\n",
              "p3      0.040706\n",
              "p4      0.040579\n",
              "g1      0.089783\n",
              "g2      0.093676\n",
              "g3      0.096883\n",
              "g4      0.094019\n",
              "dtype: float64"
            ]
          },
          "metadata": {},
          "execution_count": 15
        }
      ]
    },
    {
      "cell_type": "markdown",
      "source": [
        "The most and least feature important are tau2 and p1 respectively"
      ],
      "metadata": {
        "id": "agZpV53F0YLh"
      }
    },
    {
      "cell_type": "markdown",
      "source": [
        "Question 12: <br>\n",
        "What is the accuracy on the test set using the XGboost classifier? In 4 decimal places."
      ],
      "metadata": {
        "id": "1kZtv3JC07zd"
      }
    },
    {
      "cell_type": "code",
      "source": [
        "#XGboost\n",
        "\n",
        "#Define model\n",
        "xgb_model = XGBClassifier(random_state = 1)\n",
        "\n",
        "#fit model\n",
        "xgb_model.fit(normalised_train_df, y_train)\n",
        "\n",
        "#prediction\n",
        "xgb_predicted = xgb_model.predict(normalised_test_df)"
      ],
      "metadata": {
        "id": "0G4KwtX_0L50"
      },
      "execution_count": null,
      "outputs": []
    },
    {
      "cell_type": "code",
      "source": [
        "#XGBoost accurarcy\n",
        "\n",
        "xgb_accuracy = accuracy_score(y_test, xgb_predicted)\n",
        "\n",
        "round(xgb_accuracy, 4)"
      ],
      "metadata": {
        "colab": {
          "base_uri": "https://localhost:8080/"
        },
        "id": "taL3z5iY1T4X",
        "outputId": "eff9d1b6-d56f-4013-879a-23c0cc91bd60"
      },
      "execution_count": null,
      "outputs": [
        {
          "output_type": "execute_result",
          "data": {
            "text/plain": [
              "0.9195"
            ]
          },
          "metadata": {},
          "execution_count": 17
        }
      ]
    },
    {
      "cell_type": "markdown",
      "source": [
        "Question 14: <br>\n",
        "Using the ExtraTreesClassifier as your estimator with cv=5, n_iter=10, scoring = 'accuracy', n_jobs = -1, verbose = 1 and random_state = 1. What are the best hyperparameters from the randomized search CV?"
      ],
      "metadata": {
        "id": "2kbh0Mji1Y7R"
      }
    },
    {
      "cell_type": "code",
      "source": [
        "#Define Extra Trees Classifier model\n",
        "param = { 'n_estimators':[50, 100, 300, 500, 1000],\n",
        "         'min_samples_leaf':[1, 2, 4, 6, 8],\n",
        "         'max_features':['sqrt', 'log2', 'auto', None],\n",
        "         'min_samples_split':[2, 3, 5, 7, 9]}\n",
        "search = RandomizedSearchCV(extra_tree_clf, param, n_iter=10, scoring='accuracy', n_jobs=-1, cv=5, random_state=1, verbose=1)\n",
        "result = search.fit(normalised_train_df, y_train)\n",
        "# summarize result\n",
        "print('Best Score: %s' % result.best_score_)\n",
        "print('Best Hyperparameters: %s' % result.best_params_)"
      ],
      "metadata": {
        "colab": {
          "base_uri": "https://localhost:8080/"
        },
        "id": "cDXmjHIA1hDJ",
        "outputId": "6508e166-3815-422a-824e-ad3d34f85467"
      },
      "execution_count": null,
      "outputs": [
        {
          "output_type": "stream",
          "name": "stdout",
          "text": [
            "Fitting 5 folds for each of 10 candidates, totalling 50 fits\n",
            "Best Score: 0.9241249999999999\n",
            "Best Hyperparameters: {'n_estimators': 1000, 'min_samples_split': 2, 'min_samples_leaf': 8, 'max_features': None}\n"
          ]
        }
      ]
    },
    {
      "cell_type": "markdown",
      "source": [
        "Question 17: <br>\n",
        "You are working on a spam classification system using regularized logistic regression. “Spam” is a positive class (y = 1) and “not spam” is the negative class (y = 0). You have trained your classifier and there are n = 1700 examples in the test set. The confusion matrix of predicted class vs. actual class is: <br>\n",
        "![image.png](data:image/png;base64,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) <br>\n",
        "\n",
        "What is the F1 score of this classifier?"
      ],
      "metadata": {
        "id": "7Wfq0zY17NBb"
      }
    },
    {
      "cell_type": "code",
      "source": [
        "\n",
        "# confusion matrix given data:\n",
        "TP = 255\n",
        "TN = 20\n",
        "FP = 45\n",
        "FN = 1380\n",
        "\n",
        "#Calculate Recall\n",
        "Recall = TP/(TP+FN)\n",
        "\n",
        "#Calculate Precision\n",
        "Precision = TP/(TP+FP)\n",
        "\n",
        "#Calculate F1 score\n",
        "F1_Score = (2 * ((Recall*Precision)/(Recall+Precision)))\n",
        "\n",
        "\n",
        "(round(F1_Score,5))\n"
      ],
      "metadata": {
        "colab": {
          "base_uri": "https://localhost:8080/"
        },
        "id": "GeSC4FyM2-AS",
        "outputId": "dcf588bc-e78b-4cf6-ff92-f2a8f826028b"
      },
      "execution_count": null,
      "outputs": [
        {
          "output_type": "execute_result",
          "data": {
            "text/plain": [
              "0.26357"
            ]
          },
          "metadata": {},
          "execution_count": 19
        }
      ]
    },
    {
      "cell_type": "markdown",
      "source": [
        "Question 19: <br>\n",
        "Train a new ExtraTreesClassifier Model with the new Hyperparameters from the RandomizedSearchCV (with random_state = 1). Is the accuracy of the new optimal model higher or lower than the initial ExtraTreesClassifier model with no hyperparameter tuning?"
      ],
      "metadata": {
        "id": "grJQvCVH9Yik"
      }
    },
    {
      "cell_type": "code",
      "source": [
        "#Define model\n",
        "new_extra_clf = ExtraTreesClassifier(random_state=1)\n",
        "\n",
        "#fit model\n",
        "new_extra_clf.fit(normalised_train_df, y_train)\n",
        "\n",
        "#Predict model\n",
        "pred = new_extra_clf.predict(normalised_test_df)"
      ],
      "metadata": {
        "id": "nWID6rXQ8rAo"
      },
      "execution_count": null,
      "outputs": []
    },
    {
      "cell_type": "code",
      "source": [
        "#Let evaluate the accuracy score matrix\n",
        "\n",
        "acc_new = accuracy_score(pred, y_test)\n",
        "print(round(acc_new,4))"
      ],
      "metadata": {
        "colab": {
          "base_uri": "https://localhost:8080/"
        },
        "id": "wtgAzpzu-BZa",
        "outputId": "bf9e967a-4dcb-48fa-ad43-05c9c6e7ca68"
      },
      "execution_count": null,
      "outputs": [
        {
          "output_type": "stream",
          "name": "stdout",
          "text": [
            "0.928\n"
          ]
        }
      ]
    },
    {
      "cell_type": "code",
      "source": [
        "# using the optimal model\n",
        "\n",
        "#Define model\n",
        "optimal_extra_clf = ExtraTreesClassifier(n_estimators = 1000, min_samples_split = 2, min_samples_leaf = 8, max_features = None, random_state=1)\n",
        "\n",
        "#fit model\n",
        "optimal_extra_clf.fit(normalised_train_df, y_train)\n",
        "\n",
        "#Predict model\n",
        "optimal_pred = optimal_extra_clf.predict(normalised_test_df)"
      ],
      "metadata": {
        "id": "lyff3Nxl-Opu"
      },
      "execution_count": null,
      "outputs": []
    },
    {
      "cell_type": "code",
      "source": [
        "#Let evaluate the accuracy score matrix of the optimal model\n",
        "\n",
        "acc_optimal= accuracy_score(optimal_pred, y_test)\n",
        "print(round(acc_optimal,4))"
      ],
      "metadata": {
        "colab": {
          "base_uri": "https://localhost:8080/"
        },
        "id": "cTN-t7To-lO1",
        "outputId": "09126b9a-ae09-4206-864d-c798c4c7911b"
      },
      "execution_count": null,
      "outputs": [
        {
          "output_type": "stream",
          "name": "stdout",
          "text": [
            "0.927\n"
          ]
        }
      ]
    },
    {
      "cell_type": "markdown",
      "source": [
        "The accuracy of the new optimal model is **LOWER** than the initial ExtraTreesClassifier model with no hyperparameter tuning."
      ],
      "metadata": {
        "id": "nHpmueY1-3wl"
      }
    },
    {
      "cell_type": "code",
      "source": [],
      "metadata": {
        "id": "kvj-GywR--Nt"
      },
      "execution_count": null,
      "outputs": []
    }
  ]
}